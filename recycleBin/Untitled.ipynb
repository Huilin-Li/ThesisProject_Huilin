{
 "cells": [
  {
   "cell_type": "code",
   "execution_count": 1,
   "metadata": {},
   "outputs": [],
   "source": [
    "import numpy as np"
   ]
  },
  {
   "cell_type": "code",
   "execution_count": 2,
   "metadata": {},
   "outputs": [
    {
     "data": {
      "text/plain": [
       "(array([[-0.82977995,  2.20324493, -4.99885625],\n",
       "        [-1.97667427, -3.53244109, -4.07661405],\n",
       "        [-3.13739789, -1.54439273, -1.03232526],\n",
       "        [ 0.38816734, -0.80805486,  1.852195  ],\n",
       "        [-2.9554775 ,  3.78117436, -4.72612407]]),\n",
       " array([[0., 0., 0.],\n",
       "        [0., 0., 0.],\n",
       "        [0., 0., 0.],\n",
       "        [0., 0., 0.],\n",
       "        [0., 0., 0.]]))"
      ]
     },
     "execution_count": 2,
     "metadata": {},
     "output_type": "execute_result"
    }
   ],
   "source": [
    "np.random.seed(1)\n",
    "x = np.random.uniform(-5, 5, size=(5,3))\n",
    "y = np.random.uniform(0, 0, size=(5,3))\n",
    "x,y"
   ]
  },
  {
   "cell_type": "code",
   "execution_count": null,
   "metadata": {},
   "outputs": [],
   "source": [
    "for i in range(4):\n",
    "    print('iteration:', i, '----------------------------------------------')\n",
    "    print('before update y:', y)\n",
    "    for j in range(5):\n",
    "        y[j] = y[j] + 1\n",
    "        \n",
    "    \n",
    "    \n",
    "    "
   ]
  },
  {
   "cell_type": "code",
   "execution_count": 2,
   "metadata": {},
   "outputs": [],
   "source": [
    "def Y(y):\n",
    "    new_y = y.copy()\n",
    "    for i in range(5):\n",
    "        new_y[i] = y[i] + 10\n",
    "    return new_y\n",
    "\n",
    "def X(x, y):\n",
    "    new_x = x.copy()\n",
    "    for i in range(5):\n",
    "        new_x[i] = y[i] + x[i]\n",
    "    return new_x"
   ]
  },
  {
   "cell_type": "code",
   "execution_count": 3,
   "metadata": {},
   "outputs": [
    {
     "data": {
      "text/plain": [
       "(array([[-0.82977995,  2.20324493, -4.99885625],\n",
       "        [-1.97667427, -3.53244109, -4.07661405],\n",
       "        [-3.13739789, -1.54439273, -1.03232526],\n",
       "        [ 0.38816734, -0.80805486,  1.852195  ],\n",
       "        [-2.9554775 ,  3.78117436, -4.72612407]]),\n",
       " array([[0., 0., 0.],\n",
       "        [0., 0., 0.],\n",
       "        [0., 0., 0.],\n",
       "        [0., 0., 0.],\n",
       "        [0., 0., 0.]]))"
      ]
     },
     "execution_count": 3,
     "metadata": {},
     "output_type": "execute_result"
    }
   ],
   "source": [
    "np.random.seed(1)\n",
    "x = np.random.uniform(-5, 5, size=(5,3))\n",
    "y = np.random.uniform(0, 0, size=(5,3))\n",
    "x,y"
   ]
  },
  {
   "cell_type": "code",
   "execution_count": 4,
   "metadata": {},
   "outputs": [
    {
     "name": "stdout",
     "output_type": "stream",
     "text": [
      "iteration: 0 ----------------------------------------------\n",
      "before update y: [[0. 0. 0.]\n",
      " [0. 0. 0.]\n",
      " [0. 0. 0.]\n",
      " [0. 0. 0.]\n",
      " [0. 0. 0.]]\n",
      "after update y: [[10. 10. 10.]\n",
      " [10. 10. 10.]\n",
      " [10. 10. 10.]\n",
      " [10. 10. 10.]\n",
      " [10. 10. 10.]]\n",
      "before update x: [[-0.82977995  2.20324493 -4.99885625]\n",
      " [-1.97667427 -3.53244109 -4.07661405]\n",
      " [-3.13739789 -1.54439273 -1.03232526]\n",
      " [ 0.38816734 -0.80805486  1.852195  ]\n",
      " [-2.9554775   3.78117436 -4.72612407]]\n",
      "after update x: [[ 9.17022005 12.20324493  5.00114375]\n",
      " [ 8.02332573  6.46755891  5.92338595]\n",
      " [ 6.86260211  8.45560727  8.96767474]\n",
      " [10.38816734  9.19194514 11.852195  ]\n",
      " [ 7.0445225  13.78117436  5.27387593]]\n",
      "iteration: 1 ----------------------------------------------\n",
      "before update y: [[10. 10. 10.]\n",
      " [10. 10. 10.]\n",
      " [10. 10. 10.]\n",
      " [10. 10. 10.]\n",
      " [10. 10. 10.]]\n",
      "after update y: [[20. 20. 20.]\n",
      " [20. 20. 20.]\n",
      " [20. 20. 20.]\n",
      " [20. 20. 20.]\n",
      " [20. 20. 20.]]\n",
      "before update x: [[ 9.17022005 12.20324493  5.00114375]\n",
      " [ 8.02332573  6.46755891  5.92338595]\n",
      " [ 6.86260211  8.45560727  8.96767474]\n",
      " [10.38816734  9.19194514 11.852195  ]\n",
      " [ 7.0445225  13.78117436  5.27387593]]\n",
      "after update x: [[29.17022005 32.20324493 25.00114375]\n",
      " [28.02332573 26.46755891 25.92338595]\n",
      " [26.86260211 28.45560727 28.96767474]\n",
      " [30.38816734 29.19194514 31.852195  ]\n",
      " [27.0445225  33.78117436 25.27387593]]\n",
      "iteration: 2 ----------------------------------------------\n",
      "before update y: [[20. 20. 20.]\n",
      " [20. 20. 20.]\n",
      " [20. 20. 20.]\n",
      " [20. 20. 20.]\n",
      " [20. 20. 20.]]\n",
      "after update y: [[30. 30. 30.]\n",
      " [30. 30. 30.]\n",
      " [30. 30. 30.]\n",
      " [30. 30. 30.]\n",
      " [30. 30. 30.]]\n",
      "before update x: [[29.17022005 32.20324493 25.00114375]\n",
      " [28.02332573 26.46755891 25.92338595]\n",
      " [26.86260211 28.45560727 28.96767474]\n",
      " [30.38816734 29.19194514 31.852195  ]\n",
      " [27.0445225  33.78117436 25.27387593]]\n",
      "after update x: [[59.17022005 62.20324493 55.00114375]\n",
      " [58.02332573 56.46755891 55.92338595]\n",
      " [56.86260211 58.45560727 58.96767474]\n",
      " [60.38816734 59.19194514 61.852195  ]\n",
      " [57.0445225  63.78117436 55.27387593]]\n",
      "iteration: 3 ----------------------------------------------\n",
      "before update y: [[30. 30. 30.]\n",
      " [30. 30. 30.]\n",
      " [30. 30. 30.]\n",
      " [30. 30. 30.]\n",
      " [30. 30. 30.]]\n",
      "after update y: [[40. 40. 40.]\n",
      " [40. 40. 40.]\n",
      " [40. 40. 40.]\n",
      " [40. 40. 40.]\n",
      " [40. 40. 40.]]\n",
      "before update x: [[59.17022005 62.20324493 55.00114375]\n",
      " [58.02332573 56.46755891 55.92338595]\n",
      " [56.86260211 58.45560727 58.96767474]\n",
      " [60.38816734 59.19194514 61.852195  ]\n",
      " [57.0445225  63.78117436 55.27387593]]\n",
      "after update x: [[ 99.17022005 102.20324493  95.00114375]\n",
      " [ 98.02332573  96.46755891  95.92338595]\n",
      " [ 96.86260211  98.45560727  98.96767474]\n",
      " [100.38816734  99.19194514 101.852195  ]\n",
      " [ 97.0445225  103.78117436  95.27387593]]\n"
     ]
    }
   ],
   "source": [
    "\n",
    "for i in range(4):\n",
    "    print('iteration:', i, '----------------------------------------------')\n",
    "    print('before update y:', y)\n",
    "    y = Y(y)\n",
    "    print('after update y:', y)\n",
    "    print('before update x:', x)\n",
    "    x = X(x, y)\n",
    "    print('after update x:', x)\n",
    "    \n",
    "    "
   ]
  },
  {
   "cell_type": "code",
   "execution_count": null,
   "metadata": {},
   "outputs": [],
   "source": []
  },
  {
   "cell_type": "code",
   "execution_count": null,
   "metadata": {},
   "outputs": [],
   "source": []
  },
  {
   "cell_type": "code",
   "execution_count": null,
   "metadata": {},
   "outputs": [],
   "source": []
  },
  {
   "cell_type": "code",
   "execution_count": null,
   "metadata": {},
   "outputs": [],
   "source": []
  },
  {
   "cell_type": "code",
   "execution_count": null,
   "metadata": {},
   "outputs": [],
   "source": []
  },
  {
   "cell_type": "code",
   "execution_count": null,
   "metadata": {},
   "outputs": [],
   "source": [
    "def f(x):\n",
    "    return sum(x)"
   ]
  },
  {
   "cell_type": "code",
   "execution_count": null,
   "metadata": {},
   "outputs": [],
   "source": [
    "np.random.seed(1)\n",
    "X = np.random.uniform(-5, 5, size=(5,3))\n",
    "X"
   ]
  },
  {
   "cell_type": "code",
   "execution_count": null,
   "metadata": {},
   "outputs": [],
   "source": [
    "F = np.array([f(x) for x in X])"
   ]
  },
  {
   "cell_type": "code",
   "execution_count": null,
   "metadata": {},
   "outputs": [],
   "source": [
    "I = np.argmin(F)\n",
    "best = X[I]\n",
    "fmin = F[I]\n",
    "print(I, best)\n"
   ]
  },
  {
   "cell_type": "code",
   "execution_count": null,
   "metadata": {},
   "outputs": [],
   "source": [
    "for i in range(5):\n",
    "    print(i)\n",
    "    print('best:', best, 'f:', fmin)\n",
    "    x = X[i] + best\n",
    "    X[i] = x\n",
    "    print('X[i]:', X[i])\n",
    "    F[i] = f(x)\n",
    "    print('---------------------------')"
   ]
  },
  {
   "cell_type": "code",
   "execution_count": null,
   "metadata": {},
   "outputs": [],
   "source": [
    "best"
   ]
  },
  {
   "cell_type": "code",
   "execution_count": null,
   "metadata": {},
   "outputs": [],
   "source": [
    "import copy\n",
    "def test(x):\n",
    "    y = x.copy()\n",
    "    for i in range(3):\n",
    "        y[i] = copy.copy(x[i]) + 100\n",
    "    return y"
   ]
  },
  {
   "cell_type": "code",
   "execution_count": null,
   "metadata": {},
   "outputs": [],
   "source": [
    "l1 = [1,2,3]\n",
    "l2 = test(l1)\n",
    "for i in range(3):\n",
    "    l1[i] = 10\n",
    "    \n"
   ]
  },
  {
   "cell_type": "code",
   "execution_count": null,
   "metadata": {},
   "outputs": [],
   "source": [
    "l2\n"
   ]
  },
  {
   "cell_type": "code",
   "execution_count": null,
   "metadata": {},
   "outputs": [],
   "source": [
    "l1"
   ]
  },
  {
   "cell_type": "code",
   "execution_count": null,
   "metadata": {},
   "outputs": [],
   "source": [
    "a = [1, 2, 3]\n",
    "b = a\n",
    "b[2] = 11\n",
    "\n",
    "print(\"list a:\", a)\n",
    "print(\"list b:\", b)"
   ]
  },
  {
   "cell_type": "code",
   "execution_count": null,
   "metadata": {},
   "outputs": [],
   "source": []
  }
 ],
 "metadata": {
  "kernelspec": {
   "display_name": "Python 3",
   "language": "python",
   "name": "python3"
  },
  "language_info": {
   "codemirror_mode": {
    "name": "ipython",
    "version": 3
   },
   "file_extension": ".py",
   "mimetype": "text/x-python",
   "name": "python",
   "nbconvert_exporter": "python",
   "pygments_lexer": "ipython3",
   "version": "3.7.4"
  }
 },
 "nbformat": 4,
 "nbformat_minor": 4
}
