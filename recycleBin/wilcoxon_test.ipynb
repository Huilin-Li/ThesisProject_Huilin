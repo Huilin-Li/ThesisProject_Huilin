{
 "cells": [
  {
   "cell_type": "code",
   "execution_count": 1,
   "metadata": {},
   "outputs": [],
   "source": [
    "import pandas as pd\n",
    "from scipy import stats\n",
    "import numpy as np\n",
    "from sklearn.metrics import mean_squared_error"
   ]
  },
  {
   "cell_type": "code",
   "execution_count": 2,
   "metadata": {},
   "outputs": [],
   "source": [
    "df = pd.read_excel(\"D:/Temp_Huilin/auc4.xlsx\")"
   ]
  },
  {
   "cell_type": "code",
   "execution_count": 3,
   "metadata": {},
   "outputs": [
    {
     "data": {
      "text/html": [
       "<div>\n",
       "<style scoped>\n",
       "    .dataframe tbody tr th:only-of-type {\n",
       "        vertical-align: middle;\n",
       "    }\n",
       "\n",
       "    .dataframe tbody tr th {\n",
       "        vertical-align: top;\n",
       "    }\n",
       "\n",
       "    .dataframe thead th {\n",
       "        text-align: right;\n",
       "    }\n",
       "</style>\n",
       "<table border=\"1\" class=\"dataframe\">\n",
       "  <thead>\n",
       "    <tr style=\"text-align: right;\">\n",
       "      <th></th>\n",
       "      <th>Alg</th>\n",
       "      <th>funcID</th>\n",
       "      <th>Dim</th>\n",
       "      <th>Budget</th>\n",
       "      <th>AUC</th>\n",
       "    </tr>\n",
       "  </thead>\n",
       "  <tbody>\n",
       "    <tr>\n",
       "      <th>0</th>\n",
       "      <td>SEP_MFO_asyncE</td>\n",
       "      <td>1</td>\n",
       "      <td>5</td>\n",
       "      <td>50010</td>\n",
       "      <td>0.835990</td>\n",
       "    </tr>\n",
       "    <tr>\n",
       "      <th>1</th>\n",
       "      <td>SEP_MFO_asyncE</td>\n",
       "      <td>1</td>\n",
       "      <td>20</td>\n",
       "      <td>200010</td>\n",
       "      <td>0.255928</td>\n",
       "    </tr>\n",
       "    <tr>\n",
       "      <th>2</th>\n",
       "      <td>SEP_MFO_asyncE</td>\n",
       "      <td>2</td>\n",
       "      <td>5</td>\n",
       "      <td>50010</td>\n",
       "      <td>0.414592</td>\n",
       "    </tr>\n",
       "    <tr>\n",
       "      <th>3</th>\n",
       "      <td>SEP_MFO_asyncE</td>\n",
       "      <td>2</td>\n",
       "      <td>20</td>\n",
       "      <td>200010</td>\n",
       "      <td>0.000000</td>\n",
       "    </tr>\n",
       "    <tr>\n",
       "      <th>4</th>\n",
       "      <td>SEP_MFO_asyncE</td>\n",
       "      <td>3</td>\n",
       "      <td>5</td>\n",
       "      <td>50010</td>\n",
       "      <td>0.152617</td>\n",
       "    </tr>\n",
       "    <tr>\n",
       "      <th>...</th>\n",
       "      <td>...</td>\n",
       "      <td>...</td>\n",
       "      <td>...</td>\n",
       "      <td>...</td>\n",
       "      <td>...</td>\n",
       "    </tr>\n",
       "    <tr>\n",
       "      <th>91</th>\n",
       "      <td>SEP_MFO_syncE</td>\n",
       "      <td>22</td>\n",
       "      <td>20</td>\n",
       "      <td>200010</td>\n",
       "      <td>0.157859</td>\n",
       "    </tr>\n",
       "    <tr>\n",
       "      <th>92</th>\n",
       "      <td>SEP_MFO_syncE</td>\n",
       "      <td>23</td>\n",
       "      <td>5</td>\n",
       "      <td>50010</td>\n",
       "      <td>0.288041</td>\n",
       "    </tr>\n",
       "    <tr>\n",
       "      <th>93</th>\n",
       "      <td>SEP_MFO_syncE</td>\n",
       "      <td>23</td>\n",
       "      <td>20</td>\n",
       "      <td>200010</td>\n",
       "      <td>0.232679</td>\n",
       "    </tr>\n",
       "    <tr>\n",
       "      <th>94</th>\n",
       "      <td>SEP_MFO_syncE</td>\n",
       "      <td>24</td>\n",
       "      <td>5</td>\n",
       "      <td>50010</td>\n",
       "      <td>0.132629</td>\n",
       "    </tr>\n",
       "    <tr>\n",
       "      <th>95</th>\n",
       "      <td>SEP_MFO_syncE</td>\n",
       "      <td>24</td>\n",
       "      <td>20</td>\n",
       "      <td>200010</td>\n",
       "      <td>0.027811</td>\n",
       "    </tr>\n",
       "  </tbody>\n",
       "</table>\n",
       "<p>96 rows × 5 columns</p>\n",
       "</div>"
      ],
      "text/plain": [
       "               Alg  funcID  Dim  Budget       AUC\n",
       "0   SEP_MFO_asyncE       1    5   50010  0.835990\n",
       "1   SEP_MFO_asyncE       1   20  200010  0.255928\n",
       "2   SEP_MFO_asyncE       2    5   50010  0.414592\n",
       "3   SEP_MFO_asyncE       2   20  200010  0.000000\n",
       "4   SEP_MFO_asyncE       3    5   50010  0.152617\n",
       "..             ...     ...  ...     ...       ...\n",
       "91   SEP_MFO_syncE      22   20  200010  0.157859\n",
       "92   SEP_MFO_syncE      23    5   50010  0.288041\n",
       "93   SEP_MFO_syncE      23   20  200010  0.232679\n",
       "94   SEP_MFO_syncE      24    5   50010  0.132629\n",
       "95   SEP_MFO_syncE      24   20  200010  0.027811\n",
       "\n",
       "[96 rows x 5 columns]"
      ]
     },
     "execution_count": 3,
     "metadata": {},
     "output_type": "execute_result"
    }
   ],
   "source": [
    "df"
   ]
  },
  {
   "cell_type": "code",
   "execution_count": 5,
   "metadata": {},
   "outputs": [
    {
     "data": {
      "text/plain": [
       "WilcoxonResult(statistic=138.0, pvalue=0.8409995729722781)"
      ]
     },
     "execution_count": 5,
     "metadata": {},
     "output_type": "execute_result"
    }
   ],
   "source": [
    "D = 20\n",
    "stats.wilcoxon(df[(df['Alg'] == 'SEP_MFO_syncE') & (df['Dim'] == D)]['AUC'].values,\n",
    "               df[(df['Alg'] == 'SEP_MFO_asyncE') & (df['Dim'] == D)]['AUC'].values, mode = 'approx', zero_method = 'pratt')"
   ]
  },
  {
   "cell_type": "code",
   "execution_count": 20,
   "metadata": {},
   "outputs": [
    {
     "data": {
      "text/plain": [
       "WilcoxonResult(statistic=6.0, pvalue=4.631037499394086e-05)"
      ]
     },
     "execution_count": 20,
     "metadata": {},
     "output_type": "execute_result"
    }
   ],
   "source": [
    "D = 20\n",
    "stats.wilcoxon(df[(df['Alg'] == 'UNIOA_MFO') & (df['Dim'] == D)]['AUC'].values,\n",
    "                                    df[(df['Alg'] == 'SEP_MFO') & (df['Dim'] == D)]['AUC'].values,  \n",
    "                                         alternative=\"two-sided\", mode = 'approx', \n",
    "                                         zero_method = 'pratt')"
   ]
  },
  {
   "cell_type": "code",
   "execution_count": null,
   "metadata": {},
   "outputs": [],
   "source": []
  },
  {
   "cell_type": "code",
   "execution_count": 2,
   "metadata": {},
   "outputs": [],
   "source": [
    "# SEP_fix VS UNIOA \n",
    "SEP_fix_VS_UNIOA = pd.read_excel(\"D:/Temp_Huilin/auc_14.xlsx\")\n",
    "\n",
    "\n",
    "# syncE VS asyncE\n",
    "syncE_VS_asyncE = pd.read_excel(\"D:/Temp_Huilin/auc_28.xlsx\")\n",
    "\n",
    "\n",
    "# syncG VS asyncG\n",
    "syncG_VS_asyncG = pd.read_excel(\"D:/Temp_Huilin/auc_10.xlsx\")"
   ]
  },
  {
   "cell_type": "code",
   "execution_count": 8,
   "metadata": {},
   "outputs": [],
   "source": [
    "def wilcoxon_test(df, output_csa_name, propose):\n",
    "    column_names = [\"algorithm\", \"dim5\", \"dim20\"]\n",
    "    Algs = ['BA', 'GOA', 'CSA', 'MFO', 'MBO', 'BOA', 'PSO']\n",
    "    o = pd.DataFrame(columns = column_names)\n",
    "    zeros = np.zeros(24)\n",
    "    if propose == 'SEP_fix_VS_UNIOA':\n",
    "        o['algorithm'] = Algs\n",
    "        for col in [\"dim5\", \"dim20\"]:\n",
    "            P = []\n",
    "            if col == \"dim5\":\n",
    "                d = 5\n",
    "            else:\n",
    "                d = 20\n",
    "            for A in Algs:\n",
    "                unioa_name = 'UNIOA_' + A\n",
    "                if A == 'BA' or A == 'BOA' or A == 'PSO':\n",
    "                    sep_name = 'SEP_' + A + '_fix'\n",
    "                else:\n",
    "                    sep_name = 'SEP_' + A\n",
    "                p_value = stats.wilcoxon(df[(df['Alg'] == unioa_name) & (df['Dim'] == d)]['AUC'].values,\n",
    "                                    df[(df['Alg'] == sep_name) & (df['Dim'] == d)]['AUC'].values,  \n",
    "                                         alternative=\"less\", mode = 'approx', \n",
    "                                         zero_method = 'pratt')[1]\n",
    "                P.append(p_value)            \n",
    "            o[col] = P\n",
    "            \n",
    "    if propose == 'syncE_VS_asyncE':\n",
    "        sep_algorithms = []\n",
    "        unioa_algorithms = []\n",
    "        for A in Algs:\n",
    "            sep = 'SEP_' + A + '_syncE_or_asyncE_syncG'\n",
    "            unioa = 'UNIOA_' + A + '_syncE_or_asyncE_syncG'\n",
    "            sep_algorithms.append(sep)\n",
    "            unioa_algorithms.append(unioa)\n",
    "        \n",
    "        o['algorithm'] = sep_algorithms + unioa_algorithms\n",
    "        for col in [\"dim5\", \"dim20\"]:\n",
    "            sep_P = []\n",
    "            unioa_P = []\n",
    "            if col == \"dim5\":\n",
    "                d = 5\n",
    "            else:\n",
    "                d = 20\n",
    "            for A in Algs:\n",
    "                if A == 'CSA' or A == 'MFO':\n",
    "                    sep_ss = 'SEP_' + A + '_syncE'\n",
    "                    sep_as = 'SEP_' + A + '_asyncE'\n",
    "                    unioa_ss = 'UNIOA_' + A + '_syncE'\n",
    "                    unioa_as = 'UNIOA_' + A + '_asyncE'\n",
    "                else:\n",
    "                    sep_ss = 'SEP_' + A + '_syncE_syncG'\n",
    "                    sep_as = 'SEP_' + A + '_asyncE_syncG'\n",
    "                    unioa_ss = 'UNIOA_' + A + '_syncE_syncG'\n",
    "                    unioa_as = 'UNIOA_' + A + '_asyncE_syncG'\n",
    "                    \n",
    "                sep_p_value = stats.wilcoxon(df[(df['Alg'] == sep_ss) & (df['Dim'] == d)]['AUC'].values,\n",
    "                                    df[(df['Alg'] == sep_as) & (df['Dim'] == d)]['AUC'].values, mode = 'approx', zero_method = 'pratt')[1]\n",
    "                sep_P.append(sep_p_value)                \n",
    "                unioa_p_value = stats.wilcoxon(df[(df['Alg'] == unioa_ss) & (df['Dim'] == d)]['AUC'].values, \n",
    "                                    df[(df['Alg'] == unioa_as) & (df['Dim'] == d)]['AUC'].values,  mode = 'approx', zero_method = 'pratt')[1]\n",
    "                unioa_P.append(unioa_p_value)\n",
    "    \n",
    "            o[col] = sep_P + unioa_P\n",
    "            \n",
    "    if propose == 'syncG_VS_asyncG':\n",
    "        o['algorithm'] = ['SEP_BA', 'SEP_GOA', 'SEP_MBO', 'SEP_BOA', 'SEP_PSO']\n",
    "        for col in [\"dim5\", \"dim20\"]:\n",
    "            P = []\n",
    "            if col == \"dim5\":\n",
    "                d = 5\n",
    "            else:\n",
    "                d = 20\n",
    "            for A in Algs:\n",
    "                if A == 'CSA' or A == 'MFO':\n",
    "                    pass\n",
    "                else:\n",
    "                    sep_as = 'SEP_' + A + '_asyncE_syncG'\n",
    "                    sep_aa = 'SEP_' + A + '_asyncE_asyncG'\n",
    "                    sep_p_value = stats.wilcoxon(df[(df['Alg'] == sep_as) & (df['Dim'] == d)]['AUC'].values ,  \n",
    "                                        df[(df['Alg'] == sep_aa) & (df['Dim'] == d)]['AUC'].values,  mode = 'approx', zero_method = 'pratt')[1]\n",
    "                    P.append(sep_p_value)                \n",
    "            o[col] = P    \n",
    "    print(o)\n",
    "    return o.to_csv(output_csa_name + '.csv', index=False)"
   ]
  },
  {
   "cell_type": "code",
   "execution_count": 9,
   "metadata": {},
   "outputs": [
    {
     "name": "stdout",
     "output_type": "stream",
     "text": [
      "  algorithm      dim5     dim20\n",
      "0        BA  0.943616  0.672069\n",
      "1       GOA  0.040213  0.967151\n",
      "2       CSA  0.970333  0.393020\n",
      "3       MFO  0.999802  0.999977\n",
      "4       MBO  0.187886  0.070486\n",
      "5       BOA  0.431943  0.583635\n",
      "6       PSO  0.996955  0.696796\n"
     ]
    }
   ],
   "source": [
    "wilcoxon_test(df = SEP_fix_VS_UNIOA, output_csa_name = 'SEP_fix_VS_UNIOA_d5_d20', propose = 'SEP_fix_VS_UNIOA')"
   ]
  },
  {
   "cell_type": "code",
   "execution_count": 10,
   "metadata": {},
   "outputs": [
    {
     "name": "stdout",
     "output_type": "stream",
     "text": [
      "                          algorithm      dim5     dim20\n",
      "0      SEP_BA_syncE_or_asyncE_syncG  0.331335  0.228869\n",
      "1     SEP_GOA_syncE_or_asyncE_syncG  0.626111  0.667365\n",
      "2     SEP_CSA_syncE_or_asyncE_syncG  0.647568  0.886241\n",
      "3     SEP_MFO_syncE_or_asyncE_syncG  0.002700  0.017373\n",
      "4     SEP_MBO_syncE_or_asyncE_syncG  0.317311  0.174692\n",
      "5     SEP_BOA_syncE_or_asyncE_syncG  0.775097  0.277399\n",
      "6     SEP_PSO_syncE_or_asyncE_syncG  0.954431  0.194499\n",
      "7    UNIOA_BA_syncE_or_asyncE_syncG  0.241427  0.596845\n",
      "8   UNIOA_GOA_syncE_or_asyncE_syncG  0.646558  0.623344\n",
      "9   UNIOA_CSA_syncE_or_asyncE_syncG  0.909011  0.943028\n",
      "10  UNIOA_MFO_syncE_or_asyncE_syncG  0.647568  0.383277\n",
      "11  UNIOA_MBO_syncE_or_asyncE_syncG  0.265157  0.246973\n",
      "12  UNIOA_BOA_syncE_or_asyncE_syncG  0.097491  0.629275\n",
      "13  UNIOA_PSO_syncE_or_asyncE_syncG  0.954431  0.465518\n"
     ]
    }
   ],
   "source": [
    "wilcoxon_test(df = syncE_VS_asyncE, output_csa_name = 'syncE_VS_asyncE_d5_d20', propose = 'syncE_VS_asyncE')"
   ]
  },
  {
   "cell_type": "code",
   "execution_count": 11,
   "metadata": {},
   "outputs": [
    {
     "name": "stdout",
     "output_type": "stream",
     "text": [
      "  algorithm      dim5     dim20\n",
      "0    SEP_BA  0.224591  0.004638\n",
      "1   SEP_GOA  0.004220  0.173186\n",
      "2   SEP_MBO  0.198543  0.074116\n",
      "3   SEP_BOA  0.819202  0.277399\n",
      "4   SEP_PSO  0.440453  0.964389\n"
     ]
    }
   ],
   "source": [
    "wilcoxon_test(df = syncG_VS_asyncG, output_csa_name = 'syncG_VS_asyncG_d5_d20', propose = 'syncG_VS_asyncG')"
   ]
  },
  {
   "cell_type": "code",
   "execution_count": null,
   "metadata": {},
   "outputs": [],
   "source": [
    "syncE_VS_asyncE"
   ]
  },
  {
   "cell_type": "code",
   "execution_count": null,
   "metadata": {},
   "outputs": [],
   "source": [
    "import matplotlib.pyplot as plt\n",
    "import numpy as np\n",
    "  \n",
    "# create data\n",
    "x = [1,2,3,4,5,6,7,8,9,10,11,12,13,14,15,16,17,18,19,20,21,22,23,24]\n",
    "SEP_MFO_syncE_syncG = syncE_VS_asyncE[(syncE_VS_asyncE['ID'] == 'SEP_MFO_syncE') & (syncE_VS_asyncE['DIM'] == 20)]['auc'].values\n",
    "SEP_MFO_asyncE_syncG = syncE_VS_asyncE[(syncE_VS_asyncE['ID'] == 'SEP_MFO_asyncE') & (syncE_VS_asyncE['DIM'] == 20)]['auc'].values\n",
    "\n",
    "# plot lines\n",
    "plt.plot(x, SEP_MFO_syncE_syncG, label = \"ss\")\n",
    "plt.plot(x, SEP_MFO_asyncE_syncG, label = \"as\")\n",
    "plt.legend()\n",
    "plt.xlabel('24 functions')\n",
    "plt.ylabel('AUC')\n",
    "#plt.savefig('CD.png')\n",
    "plt.show()\n"
   ]
  },
  {
   "cell_type": "code",
   "execution_count": null,
   "metadata": {},
   "outputs": [],
   "source": [
    "o = pd.DataFrame(columns = ['A', 'B', 'difference', 'abs_difference', 'rank'])\n",
    "o['A'] = SEP_MBO_asyncE_syncG\n",
    "o['B'] = SEP_MBO_syncE_syncG"
   ]
  },
  {
   "cell_type": "code",
   "execution_count": null,
   "metadata": {},
   "outputs": [],
   "source": [
    "difference = SEP_MBO_asyncE_syncG - SEP_MBO_syncE_syncG\n",
    "abs_difference = np.abs(difference)\n",
    "rank =  stats.rankdata(abs_difference)"
   ]
  },
  {
   "cell_type": "code",
   "execution_count": null,
   "metadata": {},
   "outputs": [],
   "source": [
    "o['difference'] = difference\n",
    "o['abs_difference'] = abs_difference\n",
    "o['rank'] = rank"
   ]
  },
  {
   "cell_type": "code",
   "execution_count": null,
   "metadata": {},
   "outputs": [],
   "source": [
    "T_minus = o[(o['difference'] < 0)]['rank'].values\n",
    "T_plus = o[(o['difference'] >0)]['rank'].values"
   ]
  },
  {
   "cell_type": "code",
   "execution_count": null,
   "metadata": {},
   "outputs": [],
   "source": [
    "sum(T_minus), sum(T_plus)"
   ]
  },
  {
   "cell_type": "code",
   "execution_count": null,
   "metadata": {},
   "outputs": [],
   "source": []
  },
  {
   "cell_type": "code",
   "execution_count": null,
   "metadata": {},
   "outputs": [],
   "source": []
  },
  {
   "cell_type": "code",
   "execution_count": null,
   "metadata": {},
   "outputs": [],
   "source": []
  },
  {
   "cell_type": "code",
   "execution_count": null,
   "metadata": {},
   "outputs": [],
   "source": [
    "A = SEP_MBO_asyncE_syncG\n",
    "B = SEP_MBO_syncE_syncG"
   ]
  },
  {
   "cell_type": "code",
   "execution_count": null,
   "metadata": {},
   "outputs": [],
   "source": [
    "difference = A-B\n",
    "T_minus = []\n",
    "T_plus = []\n",
    "for diff in difference:\n",
    "    if diff < 0:\n",
    "        T_minus.append(diff)\n",
    "    else:\n",
    "        T_plus.append(diff)"
   ]
  },
  {
   "cell_type": "code",
   "execution_count": null,
   "metadata": {},
   "outputs": [],
   "source": [
    "len(T_minus), len(T_plus)"
   ]
  },
  {
   "cell_type": "code",
   "execution_count": null,
   "metadata": {},
   "outputs": [],
   "source": [
    "abs_difference = np.abs(A - B)"
   ]
  },
  {
   "cell_type": "code",
   "execution_count": null,
   "metadata": {},
   "outputs": [],
   "source": [
    "rank =  stats.rankdata(abs_difference)"
   ]
  },
  {
   "cell_type": "code",
   "execution_count": null,
   "metadata": {},
   "outputs": [],
   "source": [
    "\n",
    "D = []\n",
    "for i in difference:\n",
    "    D.append(float(format(i, '.8f')))"
   ]
  },
  {
   "cell_type": "code",
   "execution_count": null,
   "metadata": {},
   "outputs": [],
   "source": [
    "D"
   ]
  },
  {
   "cell_type": "code",
   "execution_count": null,
   "metadata": {},
   "outputs": [],
   "source": [
    "np.savetxt('myfile.csv', D, delimiter=',')"
   ]
  },
  {
   "cell_type": "code",
   "execution_count": null,
   "metadata": {},
   "outputs": [],
   "source": [
    "rank"
   ]
  },
  {
   "cell_type": "code",
   "execution_count": null,
   "metadata": {},
   "outputs": [],
   "source": [
    "stats.rankdata([5,1,0,10])"
   ]
  },
  {
   "cell_type": "code",
   "execution_count": null,
   "metadata": {},
   "outputs": [],
   "source": [
    "stats.wilcoxon(SEP_MBO_asyncE_syncG, SEP_MBO_syncE_syncG, \n",
    "               alternative='two-sided', \n",
    "               correction=True,\n",
    "               mode='approx')"
   ]
  },
  {
   "cell_type": "code",
   "execution_count": null,
   "metadata": {},
   "outputs": [],
   "source": [
    "SEP_MBO_asyncE_syncG.mean()-SEP_MBO_syncE_syncG.mean()"
   ]
  },
  {
   "cell_type": "code",
   "execution_count": null,
   "metadata": {},
   "outputs": [],
   "source": []
  },
  {
   "cell_type": "code",
   "execution_count": null,
   "metadata": {},
   "outputs": [],
   "source": [
    "import numpy as np\n",
    "np.zeros(24)"
   ]
  },
  {
   "cell_type": "code",
   "execution_count": null,
   "metadata": {},
   "outputs": [],
   "source": [
    "t = []\n",
    "for i in range(-80, 22, 2):\n",
    "    e = i/10\n",
    "    t.append(10**e)"
   ]
  },
  {
   "cell_type": "code",
   "execution_count": null,
   "metadata": {},
   "outputs": [],
   "source": [
    "t"
   ]
  },
  {
   "cell_type": "code",
   "execution_count": null,
   "metadata": {},
   "outputs": [],
   "source": []
  }
 ],
 "metadata": {
  "kernelspec": {
   "display_name": "Python 3",
   "language": "python",
   "name": "python3"
  },
  "language_info": {
   "codemirror_mode": {
    "name": "ipython",
    "version": 3
   },
   "file_extension": ".py",
   "mimetype": "text/x-python",
   "name": "python",
   "nbconvert_exporter": "python",
   "pygments_lexer": "ipython3",
   "version": "3.7.4"
  }
 },
 "nbformat": 4,
 "nbformat_minor": 4
}
